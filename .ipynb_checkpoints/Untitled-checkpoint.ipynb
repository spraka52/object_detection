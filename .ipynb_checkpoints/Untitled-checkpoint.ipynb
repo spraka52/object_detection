{
 "cells": [
  {
   "cell_type": "code",
   "execution_count": null,
   "metadata": {
    "collapsed": true
   },
   "outputs": [],
   "source": [
    "import os \n",
    "import sys \n",
    "args = sys.argv \n",
    "directory = args[1] \n",
    "protoc_path = args[2] \n",
    "for file in os.listdir(directory):\n",
    "    if file.endswith(\".proto\"):\n",
    "        os.system(protoc_path+\" \"+directory+\"/\"+file+\" --python_out=.\")"
   ]
  }
 ],
 "metadata": {
  "kernelspec": {
   "display_name": "Python [conda root]",
   "language": "python",
   "name": "conda-root-py"
  },
  "language_info": {
   "codemirror_mode": {
    "name": "ipython",
    "version": 3
   },
   "file_extension": ".py",
   "mimetype": "text/x-python",
   "name": "python",
   "nbconvert_exporter": "python",
   "pygments_lexer": "ipython3",
   "version": "3.5.6"
  }
 },
 "nbformat": 4,
 "nbformat_minor": 1
}
